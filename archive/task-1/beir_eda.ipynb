{
 "cells": [
  {
   "cell_type": "code",
   "execution_count": 1,
   "metadata": {},
   "outputs": [
    {
     "name": "stderr",
     "output_type": "stream",
     "text": [
      "/home/harsh/miniconda3/envs/pyt/lib/python3.10/site-packages/tqdm/auto.py:21: TqdmWarning: IProgress not found. Please update jupyter and ipywidgets. See https://ipywidgets.readthedocs.io/en/stable/user_install.html\n",
      "  from .autonotebook import tqdm as notebook_tqdm\n"
     ]
    }
   ],
   "source": [
    "import torch\n",
    "import pandas as pd\n",
    "import numpy as np\n",
    "import matplotlib.pyplot as plt\n",
    "import seaborn as sns\n",
    "import nltk\n",
    "from nltk.tokenize import WhitespaceTokenizer\n",
    "# !pip install seaborn"
   ]
  },
  {
   "cell_type": "code",
   "execution_count": 16,
   "metadata": {},
   "outputs": [
    {
     "data": {
      "text/html": [
       "<div>\n",
       "<style scoped>\n",
       "    .dataframe tbody tr th:only-of-type {\n",
       "        vertical-align: middle;\n",
       "    }\n",
       "\n",
       "    .dataframe tbody tr th {\n",
       "        vertical-align: top;\n",
       "    }\n",
       "\n",
       "    .dataframe thead th {\n",
       "        text-align: right;\n",
       "    }\n",
       "</style>\n",
       "<table border=\"1\" class=\"dataframe\">\n",
       "  <thead>\n",
       "    <tr style=\"text-align: right;\">\n",
       "      <th></th>\n",
       "      <th>title</th>\n",
       "      <th>desc</th>\n",
       "      <th>Unnamed: 2</th>\n",
       "      <th>Unnamed: 3</th>\n",
       "      <th>Unnamed: 4</th>\n",
       "      <th>Unnamed: 5</th>\n",
       "      <th>Unnamed: 6</th>\n",
       "      <th>Unnamed: 7</th>\n",
       "      <th>Unnamed: 8</th>\n",
       "      <th>Unnamed: 9</th>\n",
       "      <th>...</th>\n",
       "      <th>Unnamed: 61</th>\n",
       "      <th>Unnamed: 62</th>\n",
       "      <th>Unnamed: 63</th>\n",
       "      <th>Unnamed: 64</th>\n",
       "      <th>Unnamed: 65</th>\n",
       "      <th>Unnamed: 66</th>\n",
       "      <th>Unnamed: 67</th>\n",
       "      <th>Unnamed: 68</th>\n",
       "      <th>Unnamed: 69</th>\n",
       "      <th>Unnamed: 70</th>\n",
       "    </tr>\n",
       "  </thead>\n",
       "  <tbody>\n",
       "    <tr>\n",
       "      <th>0</th>\n",
       "      <td>web developer</td>\n",
       "      <td>a leading ecommerce agency is looking to hire ...</td>\n",
       "      <td>NaN</td>\n",
       "      <td>NaN</td>\n",
       "      <td>NaN</td>\n",
       "      <td>NaN</td>\n",
       "      <td>NaN</td>\n",
       "      <td>NaN</td>\n",
       "      <td>NaN</td>\n",
       "      <td>NaN</td>\n",
       "      <td>...</td>\n",
       "      <td>NaN</td>\n",
       "      <td>NaN</td>\n",
       "      <td>NaN</td>\n",
       "      <td>NaN</td>\n",
       "      <td>NaN</td>\n",
       "      <td>NaN</td>\n",
       "      <td>NaN</td>\n",
       "      <td>NaN</td>\n",
       "      <td>NaN</td>\n",
       "      <td>NaN</td>\n",
       "    </tr>\n",
       "    <tr>\n",
       "      <th>1</th>\n",
       "      <td>software engineer</td>\n",
       "      <td>software engineer c, c++, java, uml, xamp, agi...</td>\n",
       "      <td>NaN</td>\n",
       "      <td>NaN</td>\n",
       "      <td>NaN</td>\n",
       "      <td>NaN</td>\n",
       "      <td>NaN</td>\n",
       "      <td>NaN</td>\n",
       "      <td>NaN</td>\n",
       "      <td>NaN</td>\n",
       "      <td>...</td>\n",
       "      <td>NaN</td>\n",
       "      <td>NaN</td>\n",
       "      <td>NaN</td>\n",
       "      <td>NaN</td>\n",
       "      <td>NaN</td>\n",
       "      <td>NaN</td>\n",
       "      <td>NaN</td>\n",
       "      <td>NaN</td>\n",
       "      <td>NaN</td>\n",
       "      <td>NaN</td>\n",
       "    </tr>\n",
       "    <tr>\n",
       "      <th>2</th>\n",
       "      <td>user experience developer</td>\n",
       "      <td>user experience developer our client requires ...</td>\n",
       "      <td>NaN</td>\n",
       "      <td>NaN</td>\n",
       "      <td>NaN</td>\n",
       "      <td>NaN</td>\n",
       "      <td>NaN</td>\n",
       "      <td>NaN</td>\n",
       "      <td>NaN</td>\n",
       "      <td>NaN</td>\n",
       "      <td>...</td>\n",
       "      <td>NaN</td>\n",
       "      <td>NaN</td>\n",
       "      <td>NaN</td>\n",
       "      <td>NaN</td>\n",
       "      <td>NaN</td>\n",
       "      <td>NaN</td>\n",
       "      <td>NaN</td>\n",
       "      <td>NaN</td>\n",
       "      <td>NaN</td>\n",
       "      <td>NaN</td>\n",
       "    </tr>\n",
       "    <tr>\n",
       "      <th>3</th>\n",
       "      <td>web developer</td>\n",
       "      <td>web developer our client is looking for experi...</td>\n",
       "      <td>NaN</td>\n",
       "      <td>NaN</td>\n",
       "      <td>NaN</td>\n",
       "      <td>NaN</td>\n",
       "      <td>NaN</td>\n",
       "      <td>NaN</td>\n",
       "      <td>NaN</td>\n",
       "      <td>NaN</td>\n",
       "      <td>...</td>\n",
       "      <td>NaN</td>\n",
       "      <td>NaN</td>\n",
       "      <td>NaN</td>\n",
       "      <td>NaN</td>\n",
       "      <td>NaN</td>\n",
       "      <td>NaN</td>\n",
       "      <td>NaN</td>\n",
       "      <td>NaN</td>\n",
       "      <td>NaN</td>\n",
       "      <td>NaN</td>\n",
       "    </tr>\n",
       "    <tr>\n",
       "      <th>4</th>\n",
       "      <td>c software developers</td>\n",
       "      <td>c developer belfast salary up to ****k pa our ...</td>\n",
       "      <td>NaN</td>\n",
       "      <td>NaN</td>\n",
       "      <td>NaN</td>\n",
       "      <td>NaN</td>\n",
       "      <td>NaN</td>\n",
       "      <td>NaN</td>\n",
       "      <td>NaN</td>\n",
       "      <td>NaN</td>\n",
       "      <td>...</td>\n",
       "      <td>NaN</td>\n",
       "      <td>NaN</td>\n",
       "      <td>NaN</td>\n",
       "      <td>NaN</td>\n",
       "      <td>NaN</td>\n",
       "      <td>NaN</td>\n",
       "      <td>NaN</td>\n",
       "      <td>NaN</td>\n",
       "      <td>NaN</td>\n",
       "      <td>NaN</td>\n",
       "    </tr>\n",
       "    <tr>\n",
       "      <th>...</th>\n",
       "      <td>...</td>\n",
       "      <td>...</td>\n",
       "      <td>...</td>\n",
       "      <td>...</td>\n",
       "      <td>...</td>\n",
       "      <td>...</td>\n",
       "      <td>...</td>\n",
       "      <td>...</td>\n",
       "      <td>...</td>\n",
       "      <td>...</td>\n",
       "      <td>...</td>\n",
       "      <td>...</td>\n",
       "      <td>...</td>\n",
       "      <td>...</td>\n",
       "      <td>...</td>\n",
       "      <td>...</td>\n",
       "      <td>...</td>\n",
       "      <td>...</td>\n",
       "      <td>...</td>\n",
       "      <td>...</td>\n",
       "      <td>...</td>\n",
       "    </tr>\n",
       "    <tr>\n",
       "      <th>5431</th>\n",
       "      <td>c++ software engineer rtos</td>\n",
       "      <td>real time software engineer with c++ skills re...</td>\n",
       "      <td>NaN</td>\n",
       "      <td>NaN</td>\n",
       "      <td>NaN</td>\n",
       "      <td>NaN</td>\n",
       "      <td>NaN</td>\n",
       "      <td>NaN</td>\n",
       "      <td>NaN</td>\n",
       "      <td>NaN</td>\n",
       "      <td>...</td>\n",
       "      <td>NaN</td>\n",
       "      <td>NaN</td>\n",
       "      <td>NaN</td>\n",
       "      <td>NaN</td>\n",
       "      <td>NaN</td>\n",
       "      <td>NaN</td>\n",
       "      <td>NaN</td>\n",
       "      <td>NaN</td>\n",
       "      <td>NaN</td>\n",
       "      <td>NaN</td>\n",
       "    </tr>\n",
       "    <tr>\n",
       "      <th>5432</th>\n",
       "      <td>software engineer</td>\n",
       "      <td>software engineer this is a fantastic permanen...</td>\n",
       "      <td>NaN</td>\n",
       "      <td>NaN</td>\n",
       "      <td>NaN</td>\n",
       "      <td>NaN</td>\n",
       "      <td>NaN</td>\n",
       "      <td>NaN</td>\n",
       "      <td>NaN</td>\n",
       "      <td>NaN</td>\n",
       "      <td>...</td>\n",
       "      <td>NaN</td>\n",
       "      <td>NaN</td>\n",
       "      <td>NaN</td>\n",
       "      <td>NaN</td>\n",
       "      <td>NaN</td>\n",
       "      <td>NaN</td>\n",
       "      <td>NaN</td>\n",
       "      <td>NaN</td>\n",
       "      <td>NaN</td>\n",
       "      <td>NaN</td>\n",
       "    </tr>\n",
       "    <tr>\n",
       "      <th>5433</th>\n",
       "      <td>c software developer</td>\n",
       "      <td>we are recruiting for our client who have deve...</td>\n",
       "      <td>NaN</td>\n",
       "      <td>NaN</td>\n",
       "      <td>NaN</td>\n",
       "      <td>NaN</td>\n",
       "      <td>NaN</td>\n",
       "      <td>NaN</td>\n",
       "      <td>NaN</td>\n",
       "      <td>NaN</td>\n",
       "      <td>...</td>\n",
       "      <td>NaN</td>\n",
       "      <td>NaN</td>\n",
       "      <td>NaN</td>\n",
       "      <td>NaN</td>\n",
       "      <td>NaN</td>\n",
       "      <td>NaN</td>\n",
       "      <td>NaN</td>\n",
       "      <td>NaN</td>\n",
       "      <td>NaN</td>\n",
       "      <td>NaN</td>\n",
       "    </tr>\n",
       "    <tr>\n",
       "      <th>5434</th>\n",
       "      <td>php software developer</td>\n",
       "      <td>php software developer glasgow eden scott s cl...</td>\n",
       "      <td>NaN</td>\n",
       "      <td>NaN</td>\n",
       "      <td>NaN</td>\n",
       "      <td>NaN</td>\n",
       "      <td>NaN</td>\n",
       "      <td>NaN</td>\n",
       "      <td>NaN</td>\n",
       "      <td>NaN</td>\n",
       "      <td>...</td>\n",
       "      <td>NaN</td>\n",
       "      <td>NaN</td>\n",
       "      <td>NaN</td>\n",
       "      <td>NaN</td>\n",
       "      <td>NaN</td>\n",
       "      <td>NaN</td>\n",
       "      <td>NaN</td>\n",
       "      <td>NaN</td>\n",
       "      <td>NaN</td>\n",
       "      <td>NaN</td>\n",
       "    </tr>\n",
       "    <tr>\n",
       "      <th>5435</th>\n",
       "      <td>embedded software engineer</td>\n",
       "      <td>embedded software engineer  oxford  upto ****k...</td>\n",
       "      <td>NaN</td>\n",
       "      <td>NaN</td>\n",
       "      <td>NaN</td>\n",
       "      <td>NaN</td>\n",
       "      <td>NaN</td>\n",
       "      <td>NaN</td>\n",
       "      <td>NaN</td>\n",
       "      <td>NaN</td>\n",
       "      <td>...</td>\n",
       "      <td>NaN</td>\n",
       "      <td>NaN</td>\n",
       "      <td>NaN</td>\n",
       "      <td>NaN</td>\n",
       "      <td>NaN</td>\n",
       "      <td>NaN</td>\n",
       "      <td>NaN</td>\n",
       "      <td>NaN</td>\n",
       "      <td>NaN</td>\n",
       "      <td>NaN</td>\n",
       "    </tr>\n",
       "  </tbody>\n",
       "</table>\n",
       "<p>5436 rows × 71 columns</p>\n",
       "</div>"
      ],
      "text/plain": [
       "                           title  \\\n",
       "0              web developer       \n",
       "1              software engineer   \n",
       "2      user experience developer   \n",
       "3                  web developer   \n",
       "4      c software developers       \n",
       "...                          ...   \n",
       "5431  c++ software engineer rtos   \n",
       "5432           software engineer   \n",
       "5433        c software developer   \n",
       "5434      php software developer   \n",
       "5435  embedded software engineer   \n",
       "\n",
       "                                                   desc Unnamed: 2 Unnamed: 3  \\\n",
       "0     a leading ecommerce agency is looking to hire ...        NaN        NaN   \n",
       "1     software engineer c, c++, java, uml, xamp, agi...        NaN        NaN   \n",
       "2     user experience developer our client requires ...        NaN        NaN   \n",
       "3     web developer our client is looking for experi...        NaN        NaN   \n",
       "4     c developer belfast salary up to ****k pa our ...        NaN        NaN   \n",
       "...                                                 ...        ...        ...   \n",
       "5431  real time software engineer with c++ skills re...        NaN        NaN   \n",
       "5432  software engineer this is a fantastic permanen...        NaN        NaN   \n",
       "5433  we are recruiting for our client who have deve...        NaN        NaN   \n",
       "5434  php software developer glasgow eden scott s cl...        NaN        NaN   \n",
       "5435  embedded software engineer  oxford  upto ****k...        NaN        NaN   \n",
       "\n",
       "     Unnamed: 4 Unnamed: 5 Unnamed: 6 Unnamed: 7 Unnamed: 8 Unnamed: 9  ...  \\\n",
       "0           NaN        NaN        NaN        NaN        NaN        NaN  ...   \n",
       "1           NaN        NaN        NaN        NaN        NaN        NaN  ...   \n",
       "2           NaN        NaN        NaN        NaN        NaN        NaN  ...   \n",
       "3           NaN        NaN        NaN        NaN        NaN        NaN  ...   \n",
       "4           NaN        NaN        NaN        NaN        NaN        NaN  ...   \n",
       "...         ...        ...        ...        ...        ...        ...  ...   \n",
       "5431        NaN        NaN        NaN        NaN        NaN        NaN  ...   \n",
       "5432        NaN        NaN        NaN        NaN        NaN        NaN  ...   \n",
       "5433        NaN        NaN        NaN        NaN        NaN        NaN  ...   \n",
       "5434        NaN        NaN        NaN        NaN        NaN        NaN  ...   \n",
       "5435        NaN        NaN        NaN        NaN        NaN        NaN  ...   \n",
       "\n",
       "     Unnamed: 61 Unnamed: 62 Unnamed: 63 Unnamed: 64 Unnamed: 65 Unnamed: 66  \\\n",
       "0            NaN         NaN         NaN         NaN         NaN         NaN   \n",
       "1            NaN         NaN         NaN         NaN         NaN         NaN   \n",
       "2            NaN         NaN         NaN         NaN         NaN         NaN   \n",
       "3            NaN         NaN         NaN         NaN         NaN         NaN   \n",
       "4            NaN         NaN         NaN         NaN         NaN         NaN   \n",
       "...          ...         ...         ...         ...         ...         ...   \n",
       "5431         NaN         NaN         NaN         NaN         NaN         NaN   \n",
       "5432         NaN         NaN         NaN         NaN         NaN         NaN   \n",
       "5433         NaN         NaN         NaN         NaN         NaN         NaN   \n",
       "5434         NaN         NaN         NaN         NaN         NaN         NaN   \n",
       "5435         NaN         NaN         NaN         NaN         NaN         NaN   \n",
       "\n",
       "     Unnamed: 67 Unnamed: 68  Unnamed: 69 Unnamed: 70  \n",
       "0            NaN         NaN          NaN         NaN  \n",
       "1            NaN         NaN          NaN         NaN  \n",
       "2            NaN         NaN          NaN         NaN  \n",
       "3            NaN         NaN          NaN         NaN  \n",
       "4            NaN         NaN          NaN         NaN  \n",
       "...          ...         ...          ...         ...  \n",
       "5431         NaN         NaN          NaN         NaN  \n",
       "5432         NaN         NaN          NaN         NaN  \n",
       "5433         NaN         NaN          NaN         NaN  \n",
       "5434         NaN         NaN          NaN         NaN  \n",
       "5435         NaN         NaN          NaN         NaN  \n",
       "\n",
       "[5436 rows x 71 columns]"
      ]
     },
     "execution_count": 16,
     "metadata": {},
     "output_type": "execute_result"
    }
   ],
   "source": [
    "df=pd.read_csv(\"jd.csv\")\n",
    "df"
   ]
  },
  {
   "cell_type": "code",
   "execution_count": 17,
   "metadata": {},
   "outputs": [
    {
     "data": {
      "text/html": [
       "<div>\n",
       "<style scoped>\n",
       "    .dataframe tbody tr th:only-of-type {\n",
       "        vertical-align: middle;\n",
       "    }\n",
       "\n",
       "    .dataframe tbody tr th {\n",
       "        vertical-align: top;\n",
       "    }\n",
       "\n",
       "    .dataframe thead th {\n",
       "        text-align: right;\n",
       "    }\n",
       "</style>\n",
       "<table border=\"1\" class=\"dataframe\">\n",
       "  <thead>\n",
       "    <tr style=\"text-align: right;\">\n",
       "      <th></th>\n",
       "      <th>title</th>\n",
       "      <th>desc</th>\n",
       "    </tr>\n",
       "  </thead>\n",
       "  <tbody>\n",
       "    <tr>\n",
       "      <th>0</th>\n",
       "      <td>web developer</td>\n",
       "      <td>a leading ecommerce agency is looking to hire ...</td>\n",
       "    </tr>\n",
       "    <tr>\n",
       "      <th>1</th>\n",
       "      <td>software engineer</td>\n",
       "      <td>software engineer c, c++, java, uml, xamp, agi...</td>\n",
       "    </tr>\n",
       "    <tr>\n",
       "      <th>2</th>\n",
       "      <td>user experience developer</td>\n",
       "      <td>user experience developer our client requires ...</td>\n",
       "    </tr>\n",
       "    <tr>\n",
       "      <th>3</th>\n",
       "      <td>web developer</td>\n",
       "      <td>web developer our client is looking for experi...</td>\n",
       "    </tr>\n",
       "    <tr>\n",
       "      <th>4</th>\n",
       "      <td>c software developers</td>\n",
       "      <td>c developer belfast salary up to ****k pa our ...</td>\n",
       "    </tr>\n",
       "    <tr>\n",
       "      <th>...</th>\n",
       "      <td>...</td>\n",
       "      <td>...</td>\n",
       "    </tr>\n",
       "    <tr>\n",
       "      <th>5431</th>\n",
       "      <td>c++ software engineer rtos</td>\n",
       "      <td>real time software engineer with c++ skills re...</td>\n",
       "    </tr>\n",
       "    <tr>\n",
       "      <th>5432</th>\n",
       "      <td>software engineer</td>\n",
       "      <td>software engineer this is a fantastic permanen...</td>\n",
       "    </tr>\n",
       "    <tr>\n",
       "      <th>5433</th>\n",
       "      <td>c software developer</td>\n",
       "      <td>we are recruiting for our client who have deve...</td>\n",
       "    </tr>\n",
       "    <tr>\n",
       "      <th>5434</th>\n",
       "      <td>php software developer</td>\n",
       "      <td>php software developer glasgow eden scott s cl...</td>\n",
       "    </tr>\n",
       "    <tr>\n",
       "      <th>5435</th>\n",
       "      <td>embedded software engineer</td>\n",
       "      <td>embedded software engineer  oxford  upto ****k...</td>\n",
       "    </tr>\n",
       "  </tbody>\n",
       "</table>\n",
       "<p>5436 rows × 2 columns</p>\n",
       "</div>"
      ],
      "text/plain": [
       "                           title  \\\n",
       "0              web developer       \n",
       "1              software engineer   \n",
       "2      user experience developer   \n",
       "3                  web developer   \n",
       "4      c software developers       \n",
       "...                          ...   \n",
       "5431  c++ software engineer rtos   \n",
       "5432           software engineer   \n",
       "5433        c software developer   \n",
       "5434      php software developer   \n",
       "5435  embedded software engineer   \n",
       "\n",
       "                                                   desc  \n",
       "0     a leading ecommerce agency is looking to hire ...  \n",
       "1     software engineer c, c++, java, uml, xamp, agi...  \n",
       "2     user experience developer our client requires ...  \n",
       "3     web developer our client is looking for experi...  \n",
       "4     c developer belfast salary up to ****k pa our ...  \n",
       "...                                                 ...  \n",
       "5431  real time software engineer with c++ skills re...  \n",
       "5432  software engineer this is a fantastic permanen...  \n",
       "5433  we are recruiting for our client who have deve...  \n",
       "5434  php software developer glasgow eden scott s cl...  \n",
       "5435  embedded software engineer  oxford  upto ****k...  \n",
       "\n",
       "[5436 rows x 2 columns]"
      ]
     },
     "execution_count": 17,
     "metadata": {},
     "output_type": "execute_result"
    }
   ],
   "source": [
    "df=df.dropna(axis=1)\n",
    "df"
   ]
  },
  {
   "cell_type": "code",
   "execution_count": 14,
   "metadata": {},
   "outputs": [
    {
     "data": {
      "text/html": [
       "<div>\n",
       "<style scoped>\n",
       "    .dataframe tbody tr th:only-of-type {\n",
       "        vertical-align: middle;\n",
       "    }\n",
       "\n",
       "    .dataframe tbody tr th {\n",
       "        vertical-align: top;\n",
       "    }\n",
       "\n",
       "    .dataframe thead th {\n",
       "        text-align: right;\n",
       "    }\n",
       "</style>\n",
       "<table border=\"1\" class=\"dataframe\">\n",
       "  <thead>\n",
       "    <tr style=\"text-align: right;\">\n",
       "      <th></th>\n",
       "      <th>title</th>\n",
       "      <th>desc</th>\n",
       "    </tr>\n",
       "  </thead>\n",
       "  <tbody>\n",
       "    <tr>\n",
       "      <th>0</th>\n",
       "      <td>web developer</td>\n",
       "      <td>a leading ecommerce agency is looking to hire ...</td>\n",
       "    </tr>\n",
       "    <tr>\n",
       "      <th>1</th>\n",
       "      <td>software engineer</td>\n",
       "      <td>software engineer c, c++, java, uml, xamp, agi...</td>\n",
       "    </tr>\n",
       "    <tr>\n",
       "      <th>2</th>\n",
       "      <td>user experience developer</td>\n",
       "      <td>user experience developer our client requires ...</td>\n",
       "    </tr>\n",
       "    <tr>\n",
       "      <th>3</th>\n",
       "      <td>web developer</td>\n",
       "      <td>web developer our client is looking for experi...</td>\n",
       "    </tr>\n",
       "    <tr>\n",
       "      <th>4</th>\n",
       "      <td>c software developers</td>\n",
       "      <td>c developer belfast salary up to ****k pa our ...</td>\n",
       "    </tr>\n",
       "    <tr>\n",
       "      <th>...</th>\n",
       "      <td>...</td>\n",
       "      <td>...</td>\n",
       "    </tr>\n",
       "    <tr>\n",
       "      <th>5431</th>\n",
       "      <td>c++ software engineer rtos</td>\n",
       "      <td>real time software engineer with c++ skills re...</td>\n",
       "    </tr>\n",
       "    <tr>\n",
       "      <th>5432</th>\n",
       "      <td>software engineer</td>\n",
       "      <td>software engineer this is a fantastic permanen...</td>\n",
       "    </tr>\n",
       "    <tr>\n",
       "      <th>5433</th>\n",
       "      <td>c software developer</td>\n",
       "      <td>we are recruiting for our client who have deve...</td>\n",
       "    </tr>\n",
       "    <tr>\n",
       "      <th>5434</th>\n",
       "      <td>php software developer</td>\n",
       "      <td>php software developer glasgow eden scott s cl...</td>\n",
       "    </tr>\n",
       "    <tr>\n",
       "      <th>5435</th>\n",
       "      <td>embedded software engineer</td>\n",
       "      <td>embedded software engineer  oxford  upto ****k...</td>\n",
       "    </tr>\n",
       "  </tbody>\n",
       "</table>\n",
       "<p>5436 rows × 2 columns</p>\n",
       "</div>"
      ],
      "text/plain": [
       "                           title  \\\n",
       "0              web developer       \n",
       "1              software engineer   \n",
       "2      user experience developer   \n",
       "3                  web developer   \n",
       "4      c software developers       \n",
       "...                          ...   \n",
       "5431  c++ software engineer rtos   \n",
       "5432           software engineer   \n",
       "5433        c software developer   \n",
       "5434      php software developer   \n",
       "5435  embedded software engineer   \n",
       "\n",
       "                                                   desc  \n",
       "0     a leading ecommerce agency is looking to hire ...  \n",
       "1     software engineer c, c++, java, uml, xamp, agi...  \n",
       "2     user experience developer our client requires ...  \n",
       "3     web developer our client is looking for experi...  \n",
       "4     c developer belfast salary up to ****k pa our ...  \n",
       "...                                                 ...  \n",
       "5431  real time software engineer with c++ skills re...  \n",
       "5432  software engineer this is a fantastic permanen...  \n",
       "5433  we are recruiting for our client who have deve...  \n",
       "5434  php software developer glasgow eden scott s cl...  \n",
       "5435  embedded software engineer  oxford  upto ****k...  \n",
       "\n",
       "[5436 rows x 2 columns]"
      ]
     },
     "execution_count": 14,
     "metadata": {},
     "output_type": "execute_result"
    }
   ],
   "source": [
    "df"
   ]
  },
  {
   "cell_type": "markdown",
   "metadata": {},
   "source": [
    "### Stats for uncombined data"
   ]
  },
  {
   "cell_type": "code",
   "execution_count": 19,
   "metadata": {},
   "outputs": [
    {
     "name": "stderr",
     "output_type": "stream",
     "text": [
      "/tmp/ipykernel_392797/3308053952.py:1: SettingWithCopyWarning: \n",
      "A value is trying to be set on a copy of a slice from a DataFrame.\n",
      "Try using .loc[row_indexer,col_indexer] = value instead\n",
      "\n",
      "See the caveats in the documentation: https://pandas.pydata.org/pandas-docs/stable/user_guide/indexing.html#returning-a-view-versus-a-copy\n",
      "  df['WordCount'] = df['desc'].apply(lambda x: len(nltk.word_tokenize(x)))\n"
     ]
    }
   ],
   "source": [
    "df['WordCount'] = df['desc'].apply(lambda x: len(nltk.word_tokenize(x)))"
   ]
  },
  {
   "cell_type": "code",
   "execution_count": 20,
   "metadata": {},
   "outputs": [
    {
     "name": "stdout",
     "output_type": "stream",
     "text": [
      "Average number of words per query (raw)  287.322663723326\n",
      "Min number of words per query (raw)  1\n",
      "Max number of words per query (raw)  1081\n",
      "Median number of words per query (raw)  266.0\n"
     ]
    }
   ],
   "source": [
    "print(\"Average number of words per query (raw) \", df[\"WordCount\"].mean())\n",
    "print(\"Min number of words per query (raw) \", df[\"WordCount\"].min())\n",
    "print(\"Max number of words per query (raw) \", df[\"WordCount\"].max())\n",
    "print(\"Median number of words per query (raw) \", df[\"WordCount\"].median())"
   ]
  },
  {
   "cell_type": "code",
   "execution_count": 21,
   "metadata": {},
   "outputs": [
    {
     "data": {
      "image/png": "[encoded data removed]",
      "text/plain": [
       "<Figure size 640x480 with 1 Axes>"
      ]
     },
     "metadata": {},
     "output_type": "display_data"
    }
   ],
   "source": [
    "plt.hist(df['WordCount'], bins=range(1, max(df['WordCount'])+1), align='left')\n",
    "plt.xlabel('Number of Words per Query')\n",
    "plt.ylabel('Frequency')\n",
    "plt.show()"
   ]
  },
  {
   "cell_type": "code",
   "execution_count": 22,
   "metadata": {},
   "outputs": [
    {
     "data": {
      "image/png": "[encoded data removed]",
      "text/plain": [
       "<Figure size 640x480 with 1 Axes>"
      ]
     },
     "metadata": {},
     "output_type": "display_data"
    }
   ],
   "source": [
    "queries_percentiles = np.percentile(df['WordCount'], range(0, 101, 10))\n",
    "plt.plot(range(0, 101, 10),queries_percentiles)\n",
    "plt.xlabel('Percentiles')\n",
    "plt.ylabel('Query Length')    \n",
    "plt.show()"
   ]
  },
  {
   "cell_type": "code",
   "execution_count": 23,
   "metadata": {},
   "outputs": [
    {
     "name": "stdout",
     "output_type": "stream",
     "text": [
      "90th Percentile:  462.5\n",
      "95th Percentile:  547.0\n",
      "99th Percentile:  682.0\n"
     ]
    }
   ],
   "source": [
    "print(\"90th Percentile: \",np.percentile(df['WordCount'], 90))\n",
    "print(\"95th Percentile: \",np.percentile(df['WordCount'], 95))\n",
    "print(\"99th Percentile: \",np.percentile(df['WordCount'], 99))"
   ]
  },
  {
   "cell_type": "code",
   "execution_count": 177,
   "metadata": {},
   "outputs": [
    {
     "data": {
      "image/png": "[encoded data removed]",
      "text/plain": [
       "<Figure size 640x480 with 1 Axes>"
      ]
     },
     "metadata": {},
     "output_type": "display_data"
    }
   ],
   "source": [
    "queries_percentiles = np.percentile(queries_df_train['WordCount'], range(0, 101, 10))\n",
    "plt.plot(range(0, 101, 10),queries_percentiles)\n",
    "plt.xlabel('Percentiles')\n",
    "plt.ylabel('Query Length')    \n",
    "plt.show()"
   ]
  },
  {
   "cell_type": "code",
   "execution_count": 27,
   "metadata": {},
   "outputs": [
    {
     "name": "stderr",
     "output_type": "stream",
     "text": [
      "/tmp/ipykernel_392797/2827877892.py:3: SettingWithCopyWarning: \n",
      "A value is trying to be set on a copy of a slice from a DataFrame.\n",
      "Try using .loc[row_indexer,col_indexer] = value instead\n",
      "\n",
      "See the caveats in the documentation: https://pandas.pydata.org/pandas-docs/stable/user_guide/indexing.html#returning-a-view-versus-a-copy\n",
      "  df['WordCount_ws'] = df['desc'].apply(lambda x: len((wst.tokenize(x))))\n"
     ]
    }
   ],
   "source": [
    "# docs_df_train['WordCount'] = docs_df_train['Doc'].apply(lambda x: len(nltk.word_tokenize(x)))\n",
    "wst=WhitespaceTokenizer()\n",
    "df['WordCount_ws'] = df['desc'].apply(lambda x: len((wst.tokenize(x))))"
   ]
  },
  {
   "cell_type": "markdown",
   "metadata": {},
   "source": [
    "### Word Tokenizer"
   ]
  },
  {
   "cell_type": "code",
   "execution_count": 24,
   "metadata": {},
   "outputs": [
    {
     "name": "stdout",
     "output_type": "stream",
     "text": [
      "Average number of words per doc  287.322663723326\n",
      "Min number of words per doc  1\n",
      "Max number of words per doc  1081\n",
      "Median number of words per doc  266.0\n"
     ]
    }
   ],
   "source": [
    "print(\"Average number of words per doc \", df[\"WordCount\"].mean())\n",
    "print(\"Min number of words per doc \", df[\"WordCount\"].min())\n",
    "print(\"Max number of words per doc \", df[\"WordCount\"].max())\n",
    "print(\"Median number of words per doc \", df[\"WordCount\"].median())"
   ]
  },
  {
   "cell_type": "code",
   "execution_count": 25,
   "metadata": {},
   "outputs": [
    {
     "data": {
      "image/png": "[encoded data removed]",
      "text/plain": [
       "<Figure size 640x480 with 1 Axes>"
      ]
     },
     "metadata": {},
     "output_type": "display_data"
    }
   ],
   "source": [
    "plt.hist(df['WordCount'], bins=range(1, max(df['WordCount'])+1), align='left')\n",
    "plt.xlabel('Number of Words per Doc/Passage')\n",
    "plt.ylabel('Frequency')\n",
    "plt.show()"
   ]
  },
  {
   "cell_type": "markdown",
   "metadata": {},
   "source": [
    "### WhiteSpace Tokenizer"
   ]
  },
  {
   "cell_type": "code",
   "execution_count": 28,
   "metadata": {},
   "outputs": [
    {
     "name": "stdout",
     "output_type": "stream",
     "text": [
      "Average number of words per doc  249.55371596762325\n",
      "Min number of words per doc  1\n",
      "Max number of words per doc  974\n",
      "Median number of words per doc  231.0\n"
     ]
    }
   ],
   "source": [
    "print(\"Average number of words per doc \", df[\"WordCount_ws\"].mean())\n",
    "print(\"Min number of words per doc \", df[\"WordCount_ws\"].min())\n",
    "print(\"Max number of words per doc \", df[\"WordCount_ws\"].max())\n",
    "print(\"Median number of words per doc \", df[\"WordCount_ws\"].median())"
   ]
  },
  {
   "cell_type": "code",
   "execution_count": 29,
   "metadata": {},
   "outputs": [
    {
     "data": {
      "image/png": "[encoded data removed]",
      "text/plain": [
       "<Figure size 640x480 with 1 Axes>"
      ]
     },
     "metadata": {},
     "output_type": "display_data"
    }
   ],
   "source": [
    "plt.hist(df['WordCount_ws'], bins=range(1, max(df['WordCount_ws'])+1), align='left')\n",
    "plt.xlabel('Number of Words per Doc/Passage')\n",
    "plt.ylabel('Frequency')\n",
    "plt.show()"
   ]
  },
  {
   "cell_type": "code",
   "execution_count": 32,
   "metadata": {},
   "outputs": [
    {
     "data": {
      "image/png": "[encoded data removed]",
      "text/plain": [
       "<Figure size 640x480 with 1 Axes>"
      ]
     },
     "metadata": {},
     "output_type": "display_data"
    }
   ],
   "source": [
    "docs_percentiles = np.percentile(df['WordCount_ws'], range(0, 101, 10))\n",
    "plt.plot(range(0, 101, 10),docs_percentiles)\n",
    "plt.xlabel('Percentiles')\n",
    "plt.ylabel('Doc Length')    \n",
    "plt.show()"
   ]
  },
  {
   "cell_type": "code",
   "execution_count": 33,
   "metadata": {},
   "outputs": [
    {
     "name": "stdout",
     "output_type": "stream",
     "text": [
      "70th Percentile:  292.0\n",
      "90th Percentile:  398.5\n",
      "95th Percentile:  470.5\n",
      "99th Percentile:  592.0\n"
     ]
    }
   ],
   "source": [
    "print(\"70th Percentile: \",np.percentile(df['WordCount_ws'], 70))\n",
    "print(\"90th Percentile: \",np.percentile(df['WordCount_ws'], 90))\n",
    "print(\"95th Percentile: \",np.percentile(df['WordCount_ws'], 95))\n",
    "print(\"99th Percentile: \",np.percentile(df['WordCount_ws'], 99))"
   ]
  }
 ],
 "metadata": {
  "kernelspec": {
   "display_name": "Python 3.10.8 ('pyt')",
   "language": "python",
   "name": "python3"
  },
  "language_info": {
   "codemirror_mode": {
    "name": "ipython",
    "version": 3
   },
   "file_extension": ".py",
   "mimetype": "text/x-python",
   "name": "python",
   "nbconvert_exporter": "python",
   "pygments_lexer": "ipython3",
   "version": "3.10.8"
  },
  "orig_nbformat": 4,
  "vscode": {
   "interpreter": {
    "hash": "75ba99cab82ae3d1b68f6c82e3eb6569fe8478ff7a1b1bd0fcbd81a78982ddb8"
   }
  }
 },
 "nbformat": 4,
 "nbformat_minor": 2
}
